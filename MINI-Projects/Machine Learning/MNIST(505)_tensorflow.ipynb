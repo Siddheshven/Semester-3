{
  "cells": [
    {
      "cell_type": "markdown",
      "id": "16e64e94",
      "metadata": {
        "id": "16e64e94"
      },
      "source": [
        "# Image classification of number using tensorflow and MNIST dataset"
      ]
    },
    {
      "cell_type": "markdown",
      "id": "f1c00bc7",
      "metadata": {
        "id": "f1c00bc7"
      },
      "source": [
        "**MNIST database**"
      ]
    },
    {
      "cell_type": "markdown",
      "id": "13561a57",
      "metadata": {
        "id": "13561a57"
      },
      "source": [
        "The MNIST database (Modified National Institute of Standards and Technology database) is a large database of handwritten digits that is commonly used for training various image processing systems."
      ]
    },
    {
      "cell_type": "markdown",
      "id": "73616f0d",
      "metadata": {
        "id": "73616f0d"
      },
      "source": [
        "**Tensorflow**"
      ]
    },
    {
      "cell_type": "markdown",
      "id": "db1eff5b",
      "metadata": {
        "id": "db1eff5b"
      },
      "source": [
        "TensorFlow is a free and open-source software library for machine learning and artificial intelligence. It can be used across a range of tasks but has a particular focus on training and inference of deep neural networks."
      ]
    },
    {
      "cell_type": "markdown",
      "id": "531bfc62",
      "metadata": {
        "id": "531bfc62"
      },
      "source": [
        "**Neural Network**"
      ]
    },
    {
      "cell_type": "markdown",
      "id": "7a35f8a1",
      "metadata": {
        "id": "7a35f8a1"
      },
      "source": [
        "Neural networks, also known as artificial neural networks (ANNs) or simulated neural networks (SNNs), are a subset of machine learning and are at the heart of deep learning algorithms. Their name and structure are inspired by the human brain, mimicking the way that biological neurons signal to one another"
      ]
    },
    {
      "cell_type": "markdown",
      "id": "efd67591",
      "metadata": {
        "id": "efd67591"
      },
      "source": [
        "**<center>Importing Libraries</center>**"
      ]
    },
    {
      "cell_type": "code",
      "execution_count": 1,
      "id": "fd66ab54",
      "metadata": {
        "id": "fd66ab54"
      },
      "outputs": [],
      "source": [
        "import tensorflow as tf"
      ]
    },
    {
      "cell_type": "markdown",
      "id": "dc43ea58",
      "metadata": {
        "id": "dc43ea58"
      },
      "source": [
        "**<center>Importing Datasets</center>**"
      ]
    },
    {
      "cell_type": "code",
      "execution_count": 2,
      "id": "8e3470fa",
      "metadata": {
        "colab": {
          "base_uri": "https://localhost:8080/",
          "height": 0
        },
        "id": "8e3470fa",
        "outputId": "2bc15b78-b25a-4708-df8f-6a443fce7258"
      },
      "outputs": [
        {
          "output_type": "stream",
          "name": "stdout",
          "text": [
            "Downloading data from https://storage.googleapis.com/tensorflow/tf-keras-datasets/mnist.npz\n",
            "11493376/11490434 [==============================] - 0s 0us/step\n",
            "11501568/11490434 [==============================] - 0s 0us/step\n"
          ]
        }
      ],
      "source": [
        "from tensorflow.keras.datasets import mnist\n",
        "(x_train, y_train), (x_test, y_test) = mnist.load_data()"
      ]
    },
    {
      "cell_type": "markdown",
      "id": "4e9e95b1",
      "metadata": {
        "id": "4e9e95b1"
      },
      "source": [
        "**<center>Dimension of the Array</center>**"
      ]
    },
    {
      "cell_type": "code",
      "execution_count": 3,
      "id": "5106c09c",
      "metadata": {
        "colab": {
          "base_uri": "https://localhost:8080/",
          "height": 0
        },
        "id": "5106c09c",
        "outputId": "11873e86-a285-4651-d3ba-7b6a59086819"
      },
      "outputs": [
        {
          "output_type": "stream",
          "name": "stdout",
          "text": [
            "x_train shape:  (60000, 28, 28)\n",
            "y_train shape:  (60000,)\n",
            "x_test shape:  (10000, 28, 28)\n",
            "y_test shape:  (10000,)\n"
          ]
        }
      ],
      "source": [
        "print(\"x_train shape: \",x_train.shape)\n",
        "print(\"y_train shape: \",y_train.shape)\n",
        "print(\"x_test shape: \",x_test.shape)\n",
        "print(\"y_test shape: \",y_test.shape)"
      ]
    },
    {
      "cell_type": "markdown",
      "id": "3bf87612",
      "metadata": {
        "id": "3bf87612"
      },
      "source": [
        "**<center>Importing Module & Plotting First Image of the Training Dataset</center>**"
      ]
    },
    {
      "cell_type": "code",
      "execution_count": 4,
      "id": "26fb6bc2",
      "metadata": {
        "colab": {
          "base_uri": "https://localhost:8080/",
          "height": 265
        },
        "id": "26fb6bc2",
        "outputId": "c353e474-f0ab-4cb4-debb-a44b08e2b724"
      },
      "outputs": [
        {
          "output_type": "display_data",
          "data": {
            "text/plain": [
              "<Figure size 432x288 with 1 Axes>"
            ],
            "image/png": "[encoded data removed]"
          },
          "metadata": {
            "needs_background": "light"
          }
        }
      ],
      "source": [
        "import matplotlib.pyplot as plt\n",
        "%matplotlib inline\n",
        "plt.imshow(x_train[0])\n",
        "plt.show()"
      ]
    },
    {
      "cell_type": "markdown",
      "id": "5632c855",
      "metadata": {
        "id": "5632c855"
      },
      "source": [
        "**<center>Checking With the Target Variable</center>**"
      ]
    },
    {
      "cell_type": "code",
      "execution_count": 5,
      "id": "90e749bc",
      "metadata": {
        "colab": {
          "base_uri": "https://localhost:8080/",
          "height": 0
        },
        "id": "90e749bc",
        "outputId": "ffde6f3b-e298-412e-dc17-cda3510e6132"
      },
      "outputs": [
        {
          "output_type": "execute_result",
          "data": {
            "text/plain": [
              "5"
            ]
          },
          "metadata": {},
          "execution_count": 5
        }
      ],
      "source": [
        "y_train[0]"
      ]
    },
    {
      "cell_type": "markdown",
      "id": "9ecc242d",
      "metadata": {
        "id": "9ecc242d"
      },
      "source": [
        "**<center>Encoding Classes</center>**"
      ]
    },
    {
      "cell_type": "code",
      "execution_count": 6,
      "id": "e90b7556",
      "metadata": {
        "id": "e90b7556"
      },
      "outputs": [],
      "source": [
        "from tensorflow.keras.utils import to_categorical\n",
        "y_train_enc=to_categorical(y_train)\n",
        "y_test_enc=to_categorical(y_test)"
      ]
    },
    {
      "cell_type": "markdown",
      "id": "1cddf8be",
      "metadata": {
        "id": "1cddf8be"
      },
      "source": [
        "**<center>Checking Dimension of both the target variable</center>**"
      ]
    },
    {
      "cell_type": "code",
      "execution_count": 7,
      "id": "f5ff59bc",
      "metadata": {
        "colab": {
          "base_uri": "https://localhost:8080/",
          "height": 0
        },
        "id": "f5ff59bc",
        "outputId": "e0bfaaae-4e7b-4fa7-ea83-f3d271f71012"
      },
      "outputs": [
        {
          "output_type": "stream",
          "name": "stdout",
          "text": [
            "y_train shape:  (60000, 10)\n",
            "y_test shape:  (10000, 10)\n"
          ]
        }
      ],
      "source": [
        "print(\"y_train shape: \",y_train_enc.shape)\n",
        "print(\"y_test shape: \",y_test_enc.shape)"
      ]
    },
    {
      "cell_type": "code",
      "execution_count": 8,
      "id": "9dabeddb",
      "metadata": {
        "colab": {
          "base_uri": "https://localhost:8080/",
          "height": 0
        },
        "id": "9dabeddb",
        "outputId": "c53c37e3-f58a-44e2-884a-1022a0d8e14c"
      },
      "outputs": [
        {
          "output_type": "execute_result",
          "data": {
            "text/plain": [
              "array([0., 0., 0., 0., 0., 1., 0., 0., 0., 0.], dtype=float32)"
            ]
          },
          "metadata": {},
          "execution_count": 8
        }
      ],
      "source": [
        "y_train_enc[0]"
      ]
    },
    {
      "cell_type": "markdown",
      "id": "c8c461fd",
      "metadata": {
        "id": "c8c461fd"
      },
      "source": [
        "**<center>Reshape Training and the Testing Datasets</center>**"
      ]
    },
    {
      "cell_type": "code",
      "execution_count": 9,
      "id": "5f21dd17",
      "metadata": {
        "colab": {
          "base_uri": "https://localhost:8080/",
          "height": 0
        },
        "id": "5f21dd17",
        "outputId": "3f22b24c-3881-4126-ce80-d9e7b44101b4"
      },
      "outputs": [
        {
          "output_type": "stream",
          "name": "stdout",
          "text": [
            "x_train reshaped:  (60000, 784)\n",
            "x_test reshaped:  (10000, 784)\n"
          ]
        }
      ],
      "source": [
        "import numpy as np\n",
        "x_train_rs=np.reshape(x_train,(60000,784))\n",
        "x_test_rs=np.reshape(x_test,(10000,784))\n",
        "print(\"x_train reshaped: \",x_train_rs.shape)\n",
        "print(\"x_test reshaped: \",x_test_rs.shape)"
      ]
    },
    {
      "cell_type": "markdown",
      "id": "7fcc6c38",
      "metadata": {
        "id": "7fcc6c38"
      },
      "source": [
        "**<center>Standardization of the array</center>**"
      ]
    },
    {
      "cell_type": "code",
      "execution_count": 10,
      "id": "3d993245",
      "metadata": {
        "id": "3d993245"
      },
      "outputs": [],
      "source": [
        "x_mean=np.mean(x_train_rs)\n",
        "x_mean2=np.mean(x_test_rs)\n",
        "x_std=np.std(x_train_rs)\n",
        "x_std2=np.std(x_test_rs)\n",
        "x_train_std=(x_train_rs-x_mean)/x_std\n",
        "x_test_std=(x_test_rs-x_mean2)/x_std2"
      ]
    },
    {
      "cell_type": "markdown",
      "id": "e28945f0",
      "metadata": {
        "id": "e28945f0"
      },
      "source": [
        "**<center>Standardization view of Training and Testing Datasets</center>** "
      ]
    },
    {
      "cell_type": "code",
      "execution_count": 11,
      "id": "d258d2f5",
      "metadata": {
        "colab": {
          "base_uri": "https://localhost:8080/",
          "height": 0
        },
        "id": "d258d2f5",
        "outputId": "2b442411-33a6-4bf9-9107-c9f30fa05176"
      },
      "outputs": [
        {
          "output_type": "stream",
          "name": "stdout",
          "text": [
            "Standardized training set:  {-0.3858901621553201, 1.3069219669849146, 1.1796428595307615, 1.8033104860561113, 1.6887592893473735, 2.821543345689335, 2.7197200597260127, 1.192370770276177, 1.53602436040239, 1.7396709323290347, 2.7960875241985046, 2.6560805059989363, 2.18514780841857, 2.4906176663085375, -0.10587612575618353, 2.681536327489767, 0.03413089244338476, -0.19497150097409063, 0.7723497156774721, 0.9378125553678709, -0.2458831439557518, 2.210603629909401, 1.9051337720194337, 1.2687382347486686, 1.7651267538198654, -0.424073894391566, 0.41596821480584373, -0.2840668761919977, 0.27596119660627544, 1.4596568959298981, 1.2941940562394993, 2.096052433200663, 1.9560454150010949, 2.7579037919622587, 1.4851127174207288, -0.09314821501076823, 2.783359613453089, 2.286971094381893, 2.4524339340722916, 1.3451056992211605, -0.042236572029107036, 2.643352595253521, -0.13133194724701414, 0.7596218049320568, 0.28868910735169073, 0.6068868759870732, 0.6196147867324885, -0.4113459836461507, 0.46687985778750496, 0.9505404661132862, 0.14868208915212244, 0.5687031437508273, 1.2305545025124227, 0.5941589652416579, 2.3633385588543843, 0.12322626766129186, 1.5614801818932207, 1.0905474843128544, 0.19959373213378365, -0.08042030426535293, -0.22042732246492122, 1.8924058612740184, 1.2560103240032534, 2.057868700964417, 1.7523988430744502, 2.388794380345215, 0.39051239331501314, -0.3986180729007354, -0.3095226976828283, 1.6123918248748819, 1.9433175042556796, 0.02140298169796946, -0.11860403650159883, 2.439706023326876, 2.7451758812168436, 2.2742431836364774, 0.16140999989753776, 2.6051688630172753, 2.770631702707674, 2.134236165436909, 1.026907930585778, 0.07231462467963067, 1.9942291472373408, 2.630624684508106, 0.721438072695811}\n",
            "Standardized testing set:  {-0.42680526933869534, 0.6341696780260173, 1.4804235050907284, 1.581468738173082, 1.909865745690731, 0.3310339787789565, 2.3771999486966164, 2.7813808810260308, 2.617182377267206, 2.0740642494495556, 1.7204059336613182, 2.4403532193730877, 2.2130014449377917, 0.12894351261424936, 2.71822761034956, -0.3131293821210476, 2.743488918620148, 2.3645692945613224, 2.6298130314025006, 2.1877401366672036, 0.4194485577260159, 0.621539023890723, 0.35629528704954494, 0.30577267050836815, 2.415091911102499, 2.7687502268907367, 2.794011535161325, 2.7055969562142654, 0.053159587802484164, 0.9120440690024896, 0.2931420163730739, -0.24997611144457657, -0.19945349490339978, -0.148930878362223, -0.1868228407681056, -0.41417461520340115, 1.2025491141142561, 1.9351270539613195, 1.0257199562201373, 2.730858264484854, 2.465614527643676, 0.22998874569660294, 0.40681790359072173, 0.31840332464366233, 2.5540291065907352, -0.212084149038694, -0.3889133069328128, -0.03525499114457522, 0.015267625396601573, 1.6698833171201415, 0.5204937908083694, 0.3436646329142507, 0.07842089607307257, -0.36365199866222436, 1.3414863096024923, 1.2530717306554329, 1.1646571517083735, 1.8719737832848486, 2.5161371441848526, 2.579290414861324, 2.162478828396615, 2.604551723131912, 2.137217520126027, 2.3393079862907338, 0.5457550990789579, 2.402461256967205, -0.1615615324975172, 1.013089302084843, 0.4826018284024869, 0.027898279531895772, 1.6319913547142588, 1.1015038810319024}\n"
          ]
        }
      ],
      "source": [
        "print(\"Standardized training set: \",set(x_train_std[0]))\n",
        "print(\"Standardized testing set: \",set(x_test_std[0]))"
      ]
    },
    {
      "cell_type": "markdown",
      "id": "be966f09",
      "metadata": {
        "id": "be966f09"
      },
      "source": [
        "**<center>Creating Neural Network</center>**"
      ]
    },
    {
      "cell_type": "code",
      "execution_count": 12,
      "id": "fe08f96d",
      "metadata": {
        "id": "fe08f96d"
      },
      "outputs": [],
      "source": [
        "from tensorflow.keras.models import Sequential\n",
        "from tensorflow.keras.layers import Dense\n",
        "\n",
        "model = Sequential([\n",
        "    Dense(532, activation = 'relu', input_shape = (784,)),\n",
        "    Dense(532, activation = 'relu'),\n",
        "    Dense(10, activation = 'softmax')\n",
        "])"
      ]
    },
    {
      "cell_type": "markdown",
      "id": "ac0f5144",
      "metadata": {
        "id": "ac0f5144"
      },
      "source": [
        "**<center>Compiling Neural Network</center>**"
      ]
    },
    {
      "cell_type": "code",
      "execution_count": 13,
      "id": "2f504df9",
      "metadata": {
        "colab": {
          "base_uri": "https://localhost:8080/",
          "height": 0
        },
        "id": "2f504df9",
        "outputId": "7fa7938e-351a-4fa3-e0ff-2a14cf21b411"
      },
      "outputs": [
        {
          "output_type": "stream",
          "name": "stdout",
          "text": [
            "Model: \"sequential\"\n",
            "_________________________________________________________________\n",
            " Layer (type)                Output Shape              Param #   \n",
            "=================================================================\n",
            " dense (Dense)               (None, 532)               417620    \n",
            "                                                                 \n",
            " dense_1 (Dense)             (None, 532)               283556    \n",
            "                                                                 \n",
            " dense_2 (Dense)             (None, 10)                5330      \n",
            "                                                                 \n",
            "=================================================================\n",
            "Total params: 706,506\n",
            "Trainable params: 706,506\n",
            "Non-trainable params: 0\n",
            "_________________________________________________________________\n"
          ]
        }
      ],
      "source": [
        "model.compile(\n",
        "    optimizer = 'sgd',\n",
        "    loss = 'categorical_crossentropy',\n",
        "    metrics = ['accuracy']\n",
        ")\n",
        "\n",
        "model.summary()"
      ]
    },
    {
      "cell_type": "markdown",
      "id": "827ec845",
      "metadata": {
        "id": "827ec845"
      },
      "source": [
        "**<center>Fitting Model with a Training Dataset and Target Variable</center>**"
      ]
    },
    {
      "cell_type": "code",
      "execution_count": 14,
      "id": "f0d33e0e",
      "metadata": {
        "colab": {
          "base_uri": "https://localhost:8080/",
          "height": 0
        },
        "id": "f0d33e0e",
        "outputId": "6fe27ce8-e439-4d8e-bae4-96bb23394434"
      },
      "outputs": [
        {
          "output_type": "stream",
          "name": "stdout",
          "text": [
            "Epoch 1/5\n",
            "1875/1875 [==============================] - 7s 3ms/step - loss: 0.3174 - accuracy: 0.9101\n",
            "Epoch 2/5\n",
            "1875/1875 [==============================] - 7s 4ms/step - loss: 0.1549 - accuracy: 0.9558\n",
            "Epoch 3/5\n",
            "1875/1875 [==============================] - 6s 3ms/step - loss: 0.1127 - accuracy: 0.9679\n",
            "Epoch 4/5\n",
            "1875/1875 [==============================] - 6s 3ms/step - loss: 0.0890 - accuracy: 0.9750\n",
            "Epoch 5/5\n",
            "1875/1875 [==============================] - 6s 3ms/step - loss: 0.0721 - accuracy: 0.9802\n"
          ]
        },
        {
          "output_type": "execute_result",
          "data": {
            "text/plain": [
              "<keras.callbacks.History at 0x7f66a89811d0>"
            ]
          },
          "metadata": {},
          "execution_count": 14
        }
      ],
      "source": [
        "model.fit(\n",
        "    x_train_std,\n",
        "    y_train_enc,\n",
        "    epochs = 5\n",
        ")"
      ]
    },
    {
      "cell_type": "markdown",
      "id": "eb23914f",
      "metadata": {
        "id": "eb23914f"
      },
      "source": [
        "**<center>Accuracy of the model</center>**"
      ]
    },
    {
      "cell_type": "code",
      "execution_count": 15,
      "id": "f44754c0",
      "metadata": {
        "colab": {
          "base_uri": "https://localhost:8080/",
          "height": 0
        },
        "id": "f44754c0",
        "outputId": "03c25796-0bc6-46b0-fd70-d5dfe13478f0"
      },
      "outputs": [
        {
          "output_type": "stream",
          "name": "stdout",
          "text": [
            "313/313 [==============================] - 1s 2ms/step - loss: 0.0890 - accuracy: 0.9739\n",
            "1875/1875 [==============================] - 4s 2ms/step - loss: 0.0585 - accuracy: 0.9842\n",
            "test set accuracy:  97.39000201225281\n",
            "train set accuracy:  98.42333197593689\n"
          ]
        }
      ],
      "source": [
        "loss1, accuracy1 = model.evaluate(x_test_std, y_test_enc)\n",
        "loss2, accuracy2 = model.evaluate(x_train_std, y_train_enc)\n",
        "print('test set accuracy: ', accuracy1 *100)\n",
        "print('train set accuracy: ', accuracy2 * 100)"
      ]
    }
  ],
  "metadata": {
    "kernelspec": {
      "display_name": "Python 3 (ipykernel)",
      "language": "python",
      "name": "python3"
    },
    "language_info": {
      "codemirror_mode": {
        "name": "ipython",
        "version": 3
      },
      "file_extension": ".py",
      "mimetype": "text/x-python",
      "name": "python",
      "nbconvert_exporter": "python",
      "pygments_lexer": "ipython3",
      "version": "3.9.12"
    },
    "colab": {
      "provenance": []
    }
  },
  "nbformat": 4,
  "nbformat_minor": 5
}